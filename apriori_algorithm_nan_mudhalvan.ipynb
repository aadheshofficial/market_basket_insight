{
 "cells": [
  {
   "cell_type": "code",
   "execution_count": 8,
   "id": "d4f8e652-4b7c-42f9-b594-5103d78caaa2",
   "metadata": {},
   "outputs": [],
   "source": [
    "# !pip install mlxtend"
   ]
  },
  {
   "cell_type": "code",
   "execution_count": 9,
   "id": "c2795ca5-fa22-42a9-89be-889032c2d586",
   "metadata": {},
   "outputs": [],
   "source": [
    "import numpy as np \n",
    "import pandas as pd \n",
    "from mlxtend.frequent_patterns import apriori, association_rules "
   ]
  },
  {
   "cell_type": "code",
   "execution_count": 10,
   "id": "ea948602-8d00-45d6-998f-9af3c971a4b0",
   "metadata": {},
   "outputs": [
    {
     "data": {
      "text/html": [
       "<div>\n",
       "<style scoped>\n",
       "    .dataframe tbody tr th:only-of-type {\n",
       "        vertical-align: middle;\n",
       "    }\n",
       "\n",
       "    .dataframe tbody tr th {\n",
       "        vertical-align: top;\n",
       "    }\n",
       "\n",
       "    .dataframe thead th {\n",
       "        text-align: right;\n",
       "    }\n",
       "</style>\n",
       "<table border=\"1\" class=\"dataframe\">\n",
       "  <thead>\n",
       "    <tr style=\"text-align: right;\">\n",
       "      <th></th>\n",
       "      <th>BillNo</th>\n",
       "      <th>Itemname</th>\n",
       "      <th>Quantity</th>\n",
       "      <th>Date</th>\n",
       "      <th>Price</th>\n",
       "      <th>CustomerID</th>\n",
       "      <th>Country</th>\n",
       "    </tr>\n",
       "  </thead>\n",
       "  <tbody>\n",
       "    <tr>\n",
       "      <th>0</th>\n",
       "      <td>536365</td>\n",
       "      <td>WHITE HANGING HEART T-LIGHT HOLDER</td>\n",
       "      <td>6</td>\n",
       "      <td>01.12.2010 08:26</td>\n",
       "      <td>2,55</td>\n",
       "      <td>17850.0</td>\n",
       "      <td>United Kingdom</td>\n",
       "    </tr>\n",
       "    <tr>\n",
       "      <th>1</th>\n",
       "      <td>536365</td>\n",
       "      <td>WHITE METAL LANTERN</td>\n",
       "      <td>6</td>\n",
       "      <td>01.12.2010 08:26</td>\n",
       "      <td>3,39</td>\n",
       "      <td>17850.0</td>\n",
       "      <td>United Kingdom</td>\n",
       "    </tr>\n",
       "    <tr>\n",
       "      <th>2</th>\n",
       "      <td>536365</td>\n",
       "      <td>CREAM CUPID HEARTS COAT HANGER</td>\n",
       "      <td>8</td>\n",
       "      <td>01.12.2010 08:26</td>\n",
       "      <td>2,75</td>\n",
       "      <td>17850.0</td>\n",
       "      <td>United Kingdom</td>\n",
       "    </tr>\n",
       "    <tr>\n",
       "      <th>3</th>\n",
       "      <td>536365</td>\n",
       "      <td>KNITTED UNION FLAG HOT WATER BOTTLE</td>\n",
       "      <td>6</td>\n",
       "      <td>01.12.2010 08:26</td>\n",
       "      <td>3,39</td>\n",
       "      <td>17850.0</td>\n",
       "      <td>United Kingdom</td>\n",
       "    </tr>\n",
       "    <tr>\n",
       "      <th>4</th>\n",
       "      <td>536365</td>\n",
       "      <td>RED WOOLLY HOTTIE WHITE HEART.</td>\n",
       "      <td>6</td>\n",
       "      <td>01.12.2010 08:26</td>\n",
       "      <td>3,39</td>\n",
       "      <td>17850.0</td>\n",
       "      <td>United Kingdom</td>\n",
       "    </tr>\n",
       "  </tbody>\n",
       "</table>\n",
       "</div>"
      ],
      "text/plain": [
       "   BillNo                             Itemname  Quantity              Date  \\\n",
       "0  536365   WHITE HANGING HEART T-LIGHT HOLDER         6  01.12.2010 08:26   \n",
       "1  536365                  WHITE METAL LANTERN         6  01.12.2010 08:26   \n",
       "2  536365       CREAM CUPID HEARTS COAT HANGER         8  01.12.2010 08:26   \n",
       "3  536365  KNITTED UNION FLAG HOT WATER BOTTLE         6  01.12.2010 08:26   \n",
       "4  536365       RED WOOLLY HOTTIE WHITE HEART.         6  01.12.2010 08:26   \n",
       "\n",
       "  Price  CustomerID         Country  \n",
       "0  2,55     17850.0  United Kingdom  \n",
       "1  3,39     17850.0  United Kingdom  \n",
       "2  2,75     17850.0  United Kingdom  \n",
       "3  3,39     17850.0  United Kingdom  \n",
       "4  3,39     17850.0  United Kingdom  "
      ]
     },
     "execution_count": 10,
     "metadata": {},
     "output_type": "execute_result"
    }
   ],
   "source": [
    "data = pd.read_csv(\"Assignment-1_Data.csv\",sep=';',low_memory=False)\n",
    "data.head()"
   ]
  },
  {
   "cell_type": "code",
   "execution_count": 11,
   "id": "3e64b980-c717-452e-aa94-d1f7ebd483a8",
   "metadata": {},
   "outputs": [],
   "source": [
    "# data_xl = pd.read_excel(\"Assignment-1_Data.xlsx\")\n",
    "# data.head()"
   ]
  },
  {
   "cell_type": "code",
   "execution_count": 12,
   "id": "2616846f-a5ce-4fc5-9d8d-75b15e871dcd",
   "metadata": {},
   "outputs": [
    {
     "data": {
      "text/plain": [
       "Index(['BillNo', 'Itemname', 'Quantity', 'Date', 'Price', 'CustomerID',\n",
       "       'Country'],\n",
       "      dtype='object')"
      ]
     },
     "execution_count": 12,
     "metadata": {},
     "output_type": "execute_result"
    }
   ],
   "source": [
    "data.columns"
   ]
  },
  {
   "cell_type": "code",
   "execution_count": 13,
   "id": "08f760b1-86e9-4df1-8e70-83663ad006ff",
   "metadata": {},
   "outputs": [
    {
     "name": "stdout",
     "output_type": "stream",
     "text": [
      "['United Kingdom' 'France' 'Australia' 'Netherlands' 'Germany' 'Norway'\n",
      " 'Switzerland' 'Spain' 'Poland' 'Portugal' 'Italy' 'Belgium' 'Lithuania'\n",
      " 'Japan' 'Iceland' 'Sweden' 'Austria' 'Bahrain' 'Israel' 'Greece'\n",
      " 'Hong Kong' 'Singapore' 'Lebanon' 'United Arab Emirates' 'Saudi Arabia'\n",
      " 'Unspecified' 'Brazil' 'USA' 'Malta' 'RSA']\n"
     ]
    }
   ],
   "source": [
    "unique_country = data.Country.unique()\n",
    "print(unique_country)"
   ]
  },
  {
   "cell_type": "code",
   "execution_count": 14,
   "id": "f97cb7a8-c100-4679-8a16-ec57a33f3a7a",
   "metadata": {},
   "outputs": [],
   "source": [
    "# Stripping extra spaces in the description \n",
    "data['Itemname'] = data['Itemname'].str.strip() \n",
    "  \n",
    "# Dropping the rows without any invoice number \n",
    "data.dropna(axis = 0, subset =['BillNo'], inplace = True) \n",
    "data['BillNo'] = data['BillNo'].astype('str') \n",
    "  \n",
    "# Dropping all transactions which were done on credit \n",
    "data = data[~data['BillNo'].str.contains('C')]"
   ]
  },
  {
   "cell_type": "code",
   "execution_count": 15,
   "id": "acc8b961-4bf3-469f-9bf8-2ff2bca3b877",
   "metadata": {},
   "outputs": [],
   "source": [
    "# Transactions done in France \n",
    "basket_France = (data[data['Country'] ==\"France\"] \n",
    "          .groupby(['BillNo', 'Itemname'])['Quantity'] \n",
    "          .sum().unstack().reset_index().fillna(0) \n",
    "          .set_index('BillNo')) \n",
    "  \n",
    "# # Transactions done in the United Kingdom \n",
    "basket_UK = (data[data['Country'] ==\"United Kingdom\"] \n",
    "          .groupby(['BillNo', 'Itemname'])['Quantity'] \n",
    "          .sum().unstack().reset_index().fillna(0) \n",
    "          .set_index('BillNo'))\n",
    "  \n",
    "# # Transactions done in Portugal \n",
    "basket_Por = (data[data['Country'] ==\"Portugal\"] \n",
    "          .groupby(['BillNo', 'Itemname'])['Quantity'] \n",
    "          .sum().unstack().reset_index().fillna(0) \n",
    "          .set_index('BillNo'))\n",
    "  \n",
    "basket_Sweden = (data[data['Country'] ==\"Sweden\"] \n",
    "          .groupby(['BillNo', 'Itemname'])['Quantity'] \n",
    "          .sum().unstack().reset_index().fillna(0) \n",
    "          .set_index('BillNo'))"
   ]
  },
  {
   "cell_type": "code",
   "execution_count": 16,
   "id": "0f0ac63e-cea3-4b36-bb04-d8e60fd60e4e",
   "metadata": {},
   "outputs": [],
   "source": [
    "#  Defining the hot encoding function to make the data suitable  \n",
    "# for the concerned libraries \n",
    "def hot_encode(x): \n",
    "    if(x<= 0): \n",
    "        return 0\n",
    "    if(x>= 1): \n",
    "        return 1\n",
    "  \n",
    "# Encoding the datasets \n",
    "basket_encoded = basket_France.map(hot_encode) \n",
    "basket_France = basket_encoded \n",
    "  \n",
    "basket_encoded = basket_UK.map(hot_encode) \n",
    "basket_UK = basket_encoded \n",
    "  \n",
    "basket_encoded = basket_Por.map(hot_encode) \n",
    "basket_Por = basket_encoded \n",
    "  \n",
    "basket_encoded = basket_Sweden.map(hot_encode) \n",
    "basket_Sweden = basket_encoded "
   ]
  },
  {
   "cell_type": "code",
   "execution_count": 17,
   "id": "600d6ffd-f6a1-46f2-acff-af12dbecdf40",
   "metadata": {},
   "outputs": [
    {
     "name": "stdout",
     "output_type": "stream",
     "text": [
      "                                           antecedents  \\\n",
      "44                        (JUMBO BAG WOODLAND ANIMALS)   \n",
      "258  (PLASTERS IN TIN CIRCUS PARADE, RED TOADSTOOL ...   \n",
      "271  (RED TOADSTOOL LED NIGHT LIGHT, PLASTERS IN TI...   \n",
      "302  (SET/6 RED SPOTTY PAPER CUPS, SET/20 RED RETRO...   \n",
      "301  (SET/6 RED SPOTTY PAPER PLATES, SET/20 RED RET...   \n",
      "\n",
      "                         consequents  antecedent support  consequent support  \\\n",
      "44                         (POSTAGE)            0.076531            0.765306   \n",
      "258                        (POSTAGE)            0.051020            0.765306   \n",
      "271                        (POSTAGE)            0.053571            0.765306   \n",
      "302  (SET/6 RED SPOTTY PAPER PLATES)            0.102041            0.127551   \n",
      "301    (SET/6 RED SPOTTY PAPER CUPS)            0.102041            0.137755   \n",
      "\n",
      "      support  confidence      lift  leverage  conviction  zhangs_metric  \n",
      "44   0.076531       1.000  1.306667  0.017961         inf       0.254144  \n",
      "258  0.051020       1.000  1.306667  0.011974         inf       0.247312  \n",
      "271  0.053571       1.000  1.306667  0.012573         inf       0.247978  \n",
      "302  0.099490       0.975  7.644000  0.086474   34.897959       0.967949  \n",
      "301  0.099490       0.975  7.077778  0.085433   34.489796       0.956294  \n"
     ]
    },
    {
     "name": "stderr",
     "output_type": "stream",
     "text": [
      "/Users/apple/Downloads/nan mudhalvan/python_environemnt/lib/python3.11/site-packages/mlxtend/frequent_patterns/fpcommon.py:110: DeprecationWarning: DataFrames with non-bool types result in worse computationalperformance and their support might be discontinued in the future.Please use a DataFrame with bool type\n",
      "  warnings.warn(\n"
     ]
    }
   ],
   "source": [
    "# Building the model \n",
    "frq_items = apriori(basket_France, min_support = 0.05, use_colnames = True) \n",
    "\n",
    "# Collecting the inferred rules in a dataframe \n",
    "rules = association_rules(frq_items, metric =\"lift\", min_threshold = 1) \n",
    "rules = rules.sort_values(['confidence', 'lift'], ascending =[False, False]) \n",
    "print(rules.head()) \n",
    "# rules.to_csv(\"out.csv\",index=False)\n",
    "\n"
   ]
  },
  {
   "cell_type": "code",
   "execution_count": 18,
   "id": "fef4973a-fb2c-4199-ae1b-75bde9225be8",
   "metadata": {},
   "outputs": [
    {
     "name": "stderr",
     "output_type": "stream",
     "text": [
      "/Users/apple/Downloads/nan mudhalvan/python_environemnt/lib/python3.11/site-packages/mlxtend/frequent_patterns/fpcommon.py:110: DeprecationWarning: DataFrames with non-bool types result in worse computationalperformance and their support might be discontinued in the future.Please use a DataFrame with bool type\n",
      "  warnings.warn(\n"
     ]
    },
    {
     "name": "stdout",
     "output_type": "stream",
     "text": [
      "                         antecedents                        consequents  \\\n",
      "3   (PINK REGENCY TEACUP AND SAUCER)  (GREEN REGENCY TEACUP AND SAUCER)   \n",
      "5  (GREEN REGENCY TEACUP AND SAUCER)  (ROSES REGENCY TEACUP AND SAUCER)   \n",
      "4  (ROSES REGENCY TEACUP AND SAUCER)  (GREEN REGENCY TEACUP AND SAUCER)   \n",
      "8          (JUMBO BAG PINK POLKADOT)          (JUMBO BAG RED RETROSPOT)   \n",
      "1       (ALARM CLOCK BAKELIKE GREEN)         (ALARM CLOCK BAKELIKE RED)   \n",
      "\n",
      "   antecedent support  consequent support   support  confidence       lift  \\\n",
      "3            0.037660            0.050035  0.030910    0.820768  16.403939   \n",
      "5            0.050035            0.051267  0.037553    0.750535  14.639752   \n",
      "4            0.051267            0.050035  0.037553    0.732497  14.639752   \n",
      "8            0.062088            0.103820  0.042053    0.677308   6.523895   \n",
      "1            0.046928            0.049821  0.030160    0.642694  12.900183   \n",
      "\n",
      "   leverage  conviction  zhangs_metric  \n",
      "3  0.029026    5.300203       0.975787  \n",
      "5  0.034988    3.803076       0.980765  \n",
      "4  0.034988    3.551237       0.982039  \n",
      "8  0.035607    2.777201       0.902769  \n",
      "1  0.027822    2.659288       0.967903  \n"
     ]
    }
   ],
   "source": [
    "# Building the model \n",
    "frq_items = apriori(basket_UK, min_support = 0.03, use_colnames = True) \n",
    "\n",
    "# Collecting the inferred rules in a dataframe \n",
    "rules = association_rules(frq_items, metric =\"lift\", min_threshold = 1) \n",
    "rules = rules.sort_values(['confidence', 'lift'], ascending =[False, False]) \n",
    "print(rules.head()) \n",
    "\n"
   ]
  },
  {
   "cell_type": "code",
   "execution_count": 19,
   "id": "3b6d6859-421b-4e58-bad1-c8ab1c3e5c58",
   "metadata": {},
   "outputs": [],
   "source": [
    "def apply_aprior_algo(basket,country):\n",
    "    try:\n",
    "        frq_items = apriori(basket, min_support = 0.02, use_colnames = True) \n",
    "\n",
    "        # Collecting the inferred rules in a dataframe \n",
    "        rules = association_rules(frq_items, metric =\"lift\", min_threshold = 1) \n",
    "        rules = rules.sort_values(['confidence', 'lift'], ascending =[False, False]) \n",
    "        print(rules.head()) \n",
    "        path = \"Output/\"+country+\".csv\"\n",
    "        print(\"path:\",path)\n",
    "        rules.to_csv(path,index = False)\n",
    "    except:\n",
    "        print(\"error occured when executing\")\n",
    "\n",
    "\n",
    "def hot_encode(x): \n",
    "    if(x<= 0): \n",
    "        return 0\n",
    "    if(x>= 1): \n",
    "        return 1"
   ]
  },
  {
   "cell_type": "code",
   "execution_count": 20,
   "id": "f5c3f972",
   "metadata": {},
   "outputs": [],
   "source": [
    "def apply(basket,country,min):    \n",
    "    frq_items = apriori(basket, min_support = min, use_colnames = True) \n",
    "\n",
    "\n",
    "    # Collecting the inferred rules in a dataframe \n",
    "    rules = association_rules(frq_items, metric =\"lift\", min_threshold = 1) \n",
    "    rules = rules.sort_values(['confidence', 'lift'], ascending =[False, False]) \n",
    "    print(rules.head()) \n",
    "    if (len(rules) == 0):\n",
    "        apply(basket,country,0.02)\n",
    "    path = \"Output/\"+country+\".csv\"\n",
    "    print(\"path:\",path)\n",
    "    rules.to_csv(path,index = False)\n",
    "    "
   ]
  },
  {
   "cell_type": "code",
   "execution_count": 21,
   "id": "b6ee72ae-1b81-4cd0-9380-aea1db02d48d",
   "metadata": {},
   "outputs": [
    {
     "name": "stdout",
     "output_type": "stream",
     "text": [
      "applying aprior algorithm\n",
      "Country : United Kingdom\n"
     ]
    },
    {
     "name": "stderr",
     "output_type": "stream",
     "text": [
      "/Users/apple/Downloads/nan mudhalvan/python_environemnt/lib/python3.11/site-packages/mlxtend/frequent_patterns/fpcommon.py:110: DeprecationWarning: DataFrames with non-bool types result in worse computationalperformance and their support might be discontinued in the future.Please use a DataFrame with bool type\n",
      "  warnings.warn(\n"
     ]
    },
    {
     "name": "stdout",
     "output_type": "stream",
     "text": [
      "Empty DataFrame\n",
      "Columns: [antecedents, consequents, antecedent support, consequent support, support, confidence, lift, leverage, conviction, zhangs_metric]\n",
      "Index: []\n"
     ]
    },
    {
     "name": "stderr",
     "output_type": "stream",
     "text": [
      "/Users/apple/Downloads/nan mudhalvan/python_environemnt/lib/python3.11/site-packages/mlxtend/frequent_patterns/fpcommon.py:110: DeprecationWarning: DataFrames with non-bool types result in worse computationalperformance and their support might be discontinued in the future.Please use a DataFrame with bool type\n",
      "  warnings.warn(\n"
     ]
    },
    {
     "name": "stdout",
     "output_type": "stream",
     "text": [
      "                                           antecedents  \\\n",
      "165  (ROSES REGENCY TEACUP AND SAUCER, PINK REGENCY...   \n",
      "166  (GREEN REGENCY TEACUP AND SAUCER, PINK REGENCY...   \n",
      "27                    (PINK REGENCY TEACUP AND SAUCER)   \n",
      "170  (JUMBO BAG PINK POLKADOT, JUMBO STORAGE BAG SUKI)   \n",
      "147                   (PINK REGENCY TEACUP AND SAUCER)   \n",
      "\n",
      "                           consequents  antecedent support  \\\n",
      "165  (GREEN REGENCY TEACUP AND SAUCER)            0.029249   \n",
      "166  (ROSES REGENCY TEACUP AND SAUCER)            0.030910   \n",
      "27   (GREEN REGENCY TEACUP AND SAUCER)            0.037660   \n",
      "170          (JUMBO BAG RED RETROSPOT)            0.027053   \n",
      "147  (ROSES REGENCY TEACUP AND SAUCER)            0.037660   \n",
      "\n",
      "     consequent support   support  confidence       lift  leverage  \\\n",
      "165            0.050035  0.026410    0.902930  18.046041  0.024947   \n",
      "166            0.051267  0.026410    0.854419  16.666089  0.024826   \n",
      "27             0.050035  0.030910    0.820768  16.403939  0.029026   \n",
      "170            0.103820  0.021696    0.801980   7.724749  0.018887   \n",
      "147            0.051267  0.029249    0.776671  15.149556  0.027319   \n",
      "\n",
      "     conviction  zhangs_metric  \n",
      "165    9.786434       0.973047  \n",
      "166    6.516893       0.969980  \n",
      "27     5.300203       0.975787  \n",
      "170    4.525711       0.894752  \n",
      "147    4.248149       0.970542  \n",
      "path: Output/United Kingdom.csv\n",
      "path: Output/United Kingdom.csv\n",
      "\n",
      "\n",
      "\n",
      "Country : France\n"
     ]
    },
    {
     "name": "stderr",
     "output_type": "stream",
     "text": [
      "/Users/apple/Downloads/nan mudhalvan/python_environemnt/lib/python3.11/site-packages/mlxtend/frequent_patterns/fpcommon.py:110: DeprecationWarning: DataFrames with non-bool types result in worse computationalperformance and their support might be discontinued in the future.Please use a DataFrame with bool type\n",
      "  warnings.warn(\n",
      "/Users/apple/Downloads/nan mudhalvan/python_environemnt/lib/python3.11/site-packages/mlxtend/frequent_patterns/fpcommon.py:110: DeprecationWarning: DataFrames with non-bool types result in worse computationalperformance and their support might be discontinued in the future.Please use a DataFrame with bool type\n",
      "  warnings.warn(\n"
     ]
    },
    {
     "name": "stdout",
     "output_type": "stream",
     "text": [
      "                                           antecedents  \\\n",
      "44                        (JUMBO BAG WOODLAND ANIMALS)   \n",
      "258  (PLASTERS IN TIN CIRCUS PARADE, RED TOADSTOOL ...   \n",
      "271  (RED TOADSTOOL LED NIGHT LIGHT, PLASTERS IN TI...   \n",
      "302  (SET/6 RED SPOTTY PAPER CUPS, SET/20 RED RETRO...   \n",
      "301  (SET/6 RED SPOTTY PAPER PLATES, SET/20 RED RET...   \n",
      "\n",
      "                         consequents  antecedent support  consequent support  \\\n",
      "44                         (POSTAGE)            0.076531            0.765306   \n",
      "258                        (POSTAGE)            0.051020            0.765306   \n",
      "271                        (POSTAGE)            0.053571            0.765306   \n",
      "302  (SET/6 RED SPOTTY PAPER PLATES)            0.102041            0.127551   \n",
      "301    (SET/6 RED SPOTTY PAPER CUPS)            0.102041            0.137755   \n",
      "\n",
      "      support  confidence      lift  leverage  conviction  zhangs_metric  \n",
      "44   0.076531       1.000  1.306667  0.017961         inf       0.254144  \n",
      "258  0.051020       1.000  1.306667  0.011974         inf       0.247312  \n",
      "271  0.053571       1.000  1.306667  0.012573         inf       0.247978  \n",
      "302  0.099490       0.975  7.644000  0.086474   34.897959       0.967949  \n",
      "301  0.099490       0.975  7.077778  0.085433   34.489796       0.956294  \n",
      "path: Output/France.csv\n",
      "\n",
      "\n",
      "\n",
      "Country : Australia\n"
     ]
    }
   ],
   "source": [
    "print(\"applying aprior algorithm\")\n",
    "\n",
    "for country in unique_country:\n",
    "    print(\"Country :\",country)\n",
    "    basket = (data[data['Country'] == country] \n",
    "          .groupby(['BillNo', 'Itemname'])['Quantity'] \n",
    "          .sum().unstack().reset_index().fillna(0) \n",
    "          .set_index('BillNo'))\n",
    "    basket_encoded = basket.map(hot_encode) \n",
    "    basket = basket_encoded\n",
    "    apply(basket,country,0.05)\n",
    "    print(\"\\n\\n\")"
   ]
  }
 ],
 "metadata": {
  "kernelspec": {
   "display_name": "Python 3 (ipykernel)",
   "language": "python",
   "name": "python3"
  },
  "language_info": {
   "codemirror_mode": {
    "name": "ipython",
    "version": 3
   },
   "file_extension": ".py",
   "mimetype": "text/x-python",
   "name": "python",
   "nbconvert_exporter": "python",
   "pygments_lexer": "ipython3",
   "version": "3.11.4"
  }
 },
 "nbformat": 4,
 "nbformat_minor": 5
}
